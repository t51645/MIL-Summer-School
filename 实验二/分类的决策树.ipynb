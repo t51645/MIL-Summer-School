{
 "cells": [
  {
   "cell_type": "markdown",
   "metadata": {},
   "source": [
    "# 分类的决策树模型\n",
    "\n",
    "## 定义\n",
    "决策树包含结点（node）和有向边（directed edge），其中结点有内部节点（表示特征或属性）与叶子结点（表示一个类）。\n",
    "![](https://img-blog.csdn.net/20180907093504789?watermark/2/text/aHR0cHM6Ly9ibG9nLmNzZG4ubmV0L3UwMTQ3NTQxMjc=/font/5a6L5L2T/fontsize/400/fill/I0JBQkFCMA==/dissolve/70)\n",
    "<center>图片来源于<a href=https://blog.csdn.net/u014754127/article/details/82491499>SimyHsu</a></center>\n",
    "\n",
    "## 分类方法\n",
    "决策树的根结点到一个叶结点的路径对映着一条规则，内部结点的特征则表示着条件，而叶结点则是对应规则的结论。决策树就是凭借这些条件，找到对应规则的结论。\n",
    "因此根据训练样本建立决策树后，新样本先由根结点进入决策树，根据样本特征以及不同分支的条件进入不同的子树，而后不断递归，最终到达叶结点即是分类结果。\n",
    "\n",
    "## 特征选择\n",
    "在决策树建立过程中，不同的特征选择决定了决策树的分类规则，决策树本质上是根据训练样本归纳出分类规则，因此不同特征选择会影响决策树性能。\n",
    "决策树特征选择一般以信息增益作为标准。\n",
    "### 信息增益\n",
    "首先给出熵与条件熵的定义,设X是一个取有限个值的离散随机变量，其概率分布为$$P(X=x_i)=p_i, \\quad i=1,2,...,n$$\n",
    "则随机变量的熵定义为$$H(x)=-\\sum^{n}_{i=1}p_ilogp_i$$\n",
    "根据信息论，熵越大随机变量的不确定性越大。\n",
    "则条件熵$H(Y|X)$表示在已知随机变量X的条件下随机变量Y的不确定性，定义为\n",
    "$$H(Y|X)=\\sum^{n}_{i=1}p_iH(Y|X=x_i)$$\n",
    "信息增益的定义为$$g(D, A)=H(D)-H(D|A)$$\n",
    "\n",
    "当熵和条件熵中的概率估计由数据估计得到时，对应的熵和条件熵分别称为经验熵和经验条件熵。\n",
    "\n",
    "根据经验熵$H(D)$表示对数据集D进行分类的不确定性，而经验条件熵$H(D|A)$表示在特征A给定的条件下对数据集D进行分类的不确定性，那么他们的差 __信息增益__ 就表示由于特征A而使得对数据集D的分类的不确定性的减少程度。对于数据集D而言，信息增益取决于特征，因此信息增益大的特征具有更强的分类能力。\n",
    "\n",
    "根据信息增益选择特征的方法建立决策树可以方法：对输入的训练数据集D，计算其每个特征的信息增益，并选择信息增益最大的为最优特征，再根据这个特征递归的处理子训练数据集，最终建立决策树。\n",
    "\n",
    "## 决策树生成算法(ID3)\n",
    "ID3算法的核心是在决策树各个结点上应用信息增益准则选择特征，递归的构建决策树。\n",
    "算法流程如下：\n",
    "\n",
    "![](https://img-blog.csdn.net/20180907104249716?watermark/2/text/aHR0cHM6Ly9ibG9nLmNzZG4ubmV0L3UwMTQ3NTQxMjc=/font/5a6L5L2T/fontsize/400/fill/I0JBQkFCMA==/dissolve/70)\n",
    "<center>图片来源于<a href=https://blog.csdn.net/u014754127/article/details/82491499>SimyHsu</a></center>\n",
    "\n",
    "此外还有以信息增益比为特征选择准则的C4.5生成算法，以及CART（classification and regression tree)算法。\n",
    "\n",
    "## 参考\n",
    "李航-《统计学习方法》"
   ]
  },
  {
   "cell_type": "code",
   "execution_count": null,
   "metadata": {
    "collapsed": true
   },
   "outputs": [],
   "source": []
  }
 ],
 "metadata": {
  "kernelspec": {
   "display_name": "Python 3",
   "language": "python",
   "name": "python3"
  },
  "language_info": {
   "codemirror_mode": {
    "name": "ipython",
    "version": 3
   },
   "file_extension": ".py",
   "mimetype": "text/x-python",
   "name": "python",
   "nbconvert_exporter": "python",
   "pygments_lexer": "ipython3",
   "version": "3.6.3"
  }
 },
 "nbformat": 4,
 "nbformat_minor": 2
}
